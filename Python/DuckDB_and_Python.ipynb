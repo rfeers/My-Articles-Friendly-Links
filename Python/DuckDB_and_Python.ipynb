{
 "cells": [
  {
   "cell_type": "markdown",
   "metadata": {},
   "source": [
    "![image](../imgs/databites_header.png)"
   ]
  },
  {
   "cell_type": "markdown",
   "metadata": {},
   "source": [
    "# Integrating DuckDB & Python: An Analytics Guide\n",
    "**A Hands-On Guide Using Python**\n",
    "\n",
    "DuckDB is a fast, in-process database for modern data analysis. Unlike traditional databases, it runs inside your Python app—no server needed—offering high-performance queries with columnar storage and vectorized execution, making it ideal for complex analytical workloads.\n",
    "\n",
    "You’ll learn how to:\n",
    "\n",
    "- Set up and query DuckDB directly in Python\n",
    "- Load and analyze real-world datasets (CSV, Parquet, JSON)\n",
    "- Apply core SQL techniques like filtering, sorting, and calculated columns\n",
    "\n",
    "This notebook is ideal for beginners in data science or analysts wanting to enhance their time series skills using real-world datasets.\n",
    "\n",
    "**Prerequisites:**\n",
    "- Python 3.13 or later installed\n",
    "- A basic understanding of SQL and data analysis in Python"
   ]
  },
  {
   "cell_type": "markdown",
   "metadata": {},
   "source": [
    "# Preparing the Environment and Loading the Data\n",
    "- Make sure you have Python 3.13+ and basic SQL/Python skills.\n",
    "- Create a project directory, set up a virtual environment, and install DuckDB:\n"
   ]
  },
  {
   "cell_type": "markdown",
   "metadata": {},
   "source": [
    "## Installing and importing the required libraries"
   ]
  },
  {
   "cell_type": "code",
   "execution_count": 27,
   "metadata": {},
   "outputs": [
    {
     "name": "stdout",
     "output_type": "stream",
     "text": [
      "Requirement already satisfied: duckdb in /Users/josepferrersanchez/PRO/My-Articles-Friendly-Links/venv/lib/python3.10/site-packages (1.2.2)\n",
      "\n",
      "\u001b[1m[\u001b[0m\u001b[34;49mnotice\u001b[0m\u001b[1;39;49m]\u001b[0m\u001b[39;49m A new release of pip is available: \u001b[0m\u001b[31;49m23.0.1\u001b[0m\u001b[39;49m -> \u001b[0m\u001b[32;49m25.1.1\u001b[0m\n",
      "\u001b[1m[\u001b[0m\u001b[34;49mnotice\u001b[0m\u001b[1;39;49m]\u001b[0m\u001b[39;49m To update, run: \u001b[0m\u001b[32;49mpip install --upgrade pip\u001b[0m\n"
     ]
    }
   ],
   "source": [
    "!pip install duckdb"
   ]
  },
  {
   "cell_type": "markdown",
   "metadata": {},
   "source": [
    "## First steps with DuckDB\n",
    "This script creates an in-memory DuckDB connection and runs a basic SQL query. The result is returned as a list of tuples, with each tuple representing a row from the query result."
   ]
  },
  {
   "cell_type": "code",
   "execution_count": 28,
   "metadata": {},
   "outputs": [
    {
     "name": "stdout",
     "output_type": "stream",
     "text": [
      "[('Hello, world!',)]\n"
     ]
    }
   ],
   "source": [
    "import duckdb\n",
    "\n",
    "# Create a connection to an in-memory database\n",
    "conn = duckdb.connect()\n",
    "\n",
    "# Execute a simple query and fetch the result\n",
    "result = conn.execute(\"SELECT 'Hello, world!' AS message\").fetchall()\n",
    "print(result)"
   ]
  },
  {
   "cell_type": "markdown",
   "metadata": {},
   "source": [
    "In this example, main.py reuses the conn object from analyzer.py to run a query. The result is fetched as a list of tuples. Separating the connection logic keeps your code clean and modular."
   ]
  },
  {
   "cell_type": "code",
   "execution_count": 29,
   "metadata": {},
   "outputs": [
    {
     "name": "stdout",
     "output_type": "stream",
     "text": [
      "[(42,)]\n"
     ]
    }
   ],
   "source": [
    "# Execute a simple query\n",
    "result = conn.execute(\"SELECT 42 AS answer\").fetchall()\n",
    "print(result)"
   ]
  },
  {
   "cell_type": "markdown",
   "metadata": {},
   "source": [
    "Each query returns a list of tuples—DuckDB’s default format when using `.fetchall()`. This makes it easy to directly work with small datasets in Python without needing additional libraries."
   ]
  },
  {
   "cell_type": "code",
   "execution_count": 30,
   "metadata": {},
   "outputs": [
    {
     "data": {
      "text/html": [
       "<div>\n",
       "<style scoped>\n",
       "    .dataframe tbody tr th:only-of-type {\n",
       "        vertical-align: middle;\n",
       "    }\n",
       "\n",
       "    .dataframe tbody tr th {\n",
       "        vertical-align: top;\n",
       "    }\n",
       "\n",
       "    .dataframe thead th {\n",
       "        text-align: right;\n",
       "    }\n",
       "</style>\n",
       "<table border=\"1\" class=\"dataframe\">\n",
       "  <thead>\n",
       "    <tr style=\"text-align: right;\">\n",
       "      <th></th>\n",
       "      <th>month</th>\n",
       "      <th>total_passengers</th>\n",
       "    </tr>\n",
       "  </thead>\n",
       "  <tbody>\n",
       "    <tr>\n",
       "      <th>0</th>\n",
       "      <td>1949-01</td>\n",
       "      <td>112</td>\n",
       "    </tr>\n",
       "    <tr>\n",
       "      <th>1</th>\n",
       "      <td>1949-02</td>\n",
       "      <td>118</td>\n",
       "    </tr>\n",
       "    <tr>\n",
       "      <th>2</th>\n",
       "      <td>1949-03</td>\n",
       "      <td>132</td>\n",
       "    </tr>\n",
       "    <tr>\n",
       "      <th>3</th>\n",
       "      <td>1949-04</td>\n",
       "      <td>129</td>\n",
       "    </tr>\n",
       "    <tr>\n",
       "      <th>4</th>\n",
       "      <td>1949-05</td>\n",
       "      <td>121</td>\n",
       "    </tr>\n",
       "  </tbody>\n",
       "</table>\n",
       "</div>"
      ],
      "text/plain": [
       "     month  total_passengers\n",
       "0  1949-01               112\n",
       "1  1949-02               118\n",
       "2  1949-03               132\n",
       "3  1949-04               129\n",
       "4  1949-05               121"
      ]
     },
     "execution_count": 30,
     "metadata": {},
     "output_type": "execute_result"
    }
   ],
   "source": [
    "import pandas as pd\n",
    "source = \"data/airline-passengers.csv\"\n",
    "\n",
    "df = pd.read_csv(f\"{source}\")\n",
    "df.head()"
   ]
  },
  {
   "cell_type": "markdown",
   "metadata": {},
   "source": [
    "## Working with external data sources in DuckDB\n",
    "One of DuckDB’s standout features is its ability to query external data files directly—without needing to import them into a database or load entire datasets into memory. Unlike traditional databases that require data to be ingested first, DuckDB supports a \"zero-copy\" execution model, allowing it to read only the data required for a given query.\n",
    "\n",
    "This approach brings several key advantages:\n",
    "- **Minimal memory usage:** Only the relevant portions of the file are read into memory.\n",
    "- **No import/export overhead:** Query your data in place—no need to move or duplicate it.\n",
    "- **Streamlined workflows:** Easily query across multiple files and formats using a single SQL statement.\n",
    "\n",
    "DuckDB supports a variety of file formats, especially columnar and analytics-friendly types like Parquet and CSV. In the next section, you'll learn how to connect to and query these external sources efficiently.\n"
   ]
  },
  {
   "cell_type": "code",
   "execution_count": 31,
   "metadata": {},
   "outputs": [
    {
     "name": "stdout",
     "output_type": "stream",
     "text": [
      "[('1949-01', 112), ('1949-02', 118), ('1949-03', 132), ('1949-04', 129), ('1949-05', 121), ('1949-06', 135), ('1949-07', 148), ('1949-08', 148), ('1949-09', 136), ('1949-10', 119), ('1949-11', 104), ('1949-12', 118), ('1950-01', 115), ('1950-02', 126), ('1950-03', 141), ('1950-04', 135), ('1950-05', 125), ('1950-06', 149), ('1950-07', 170), ('1950-08', 170), ('1950-09', 158), ('1950-10', 133), ('1950-11', 114), ('1950-12', 140), ('1951-01', 145), ('1951-02', 150), ('1951-03', 178), ('1951-04', 163), ('1951-05', 172), ('1951-06', 178), ('1951-07', 199), ('1951-08', 199), ('1951-09', 184), ('1951-10', 162), ('1951-11', 146), ('1951-12', 166), ('1952-01', 171), ('1952-02', 180), ('1952-03', 193), ('1952-04', 181), ('1952-05', 183), ('1952-06', 218), ('1952-07', 230), ('1952-08', 242), ('1952-09', 209), ('1952-10', 191), ('1952-11', 172), ('1952-12', 194), ('1953-01', 196), ('1953-02', 196), ('1953-03', 236), ('1953-04', 235), ('1953-05', 229), ('1953-06', 243), ('1953-07', 264), ('1953-08', 272), ('1953-09', 237), ('1953-10', 211), ('1953-11', 180), ('1953-12', 201), ('1954-01', 204), ('1954-02', 188), ('1954-03', 235), ('1954-04', 227), ('1954-05', 234), ('1954-06', 264), ('1954-07', 302), ('1954-08', 293), ('1954-09', 259), ('1954-10', 229), ('1954-11', 203), ('1954-12', 229), ('1955-01', 242), ('1955-02', 233), ('1955-03', 267), ('1955-04', 269), ('1955-05', 270), ('1955-06', 315), ('1955-07', 364), ('1955-08', 347), ('1955-09', 312), ('1955-10', 274), ('1955-11', 237), ('1955-12', 278), ('1956-01', 284), ('1956-02', 277), ('1956-03', 317), ('1956-04', 313), ('1956-05', 318), ('1956-06', 374), ('1956-07', 413), ('1956-08', 405), ('1956-09', 355), ('1956-10', 306), ('1956-11', 271), ('1956-12', 306), ('1957-01', 315), ('1957-02', 301), ('1957-03', 356), ('1957-04', 348), ('1957-05', 355), ('1957-06', 422), ('1957-07', 465), ('1957-08', 467), ('1957-09', 404), ('1957-10', 347), ('1957-11', 305), ('1957-12', 336), ('1958-01', 340), ('1958-02', 318), ('1958-03', 362), ('1958-04', 348), ('1958-05', 363), ('1958-06', 435), ('1958-07', 491), ('1958-08', 505), ('1958-09', 404), ('1958-10', 359), ('1958-11', 310), ('1958-12', 337), ('1959-01', 360), ('1959-02', 342), ('1959-03', 406), ('1959-04', 396), ('1959-05', 420), ('1959-06', 472), ('1959-07', 548), ('1959-08', 559), ('1959-09', 463), ('1959-10', 407), ('1959-11', 362), ('1959-12', 405), ('1960-01', 417), ('1960-02', 391), ('1960-03', 419), ('1960-04', 461), ('1960-05', 472), ('1960-06', 535), ('1960-07', 622), ('1960-08', 606), ('1960-09', 508), ('1960-10', 461), ('1960-11', 390), ('1960-12', 432)]\n"
     ]
    }
   ],
   "source": [
    "import duckdb\n",
    "\n",
    "# Query data directly from a CSV file\n",
    "result = duckdb.query(f\"SELECT * FROM '{source}'\").fetchall()\n",
    "print(result)"
   ]
  },
  {
   "cell_type": "markdown",
   "metadata": {},
   "source": [
    "Let's build on our previous example with the data.csv file by starting with more useful queries. We'll progressively add more sophisticated SQL features to show what DuckDB can do.\n",
    "\n",
    "Create a new file called explore_data.py and let's start with some practical operations:\n"
   ]
  },
  {
   "cell_type": "markdown",
   "metadata": {},
   "source": [
    "### Filtering rows\n",
    "When analyzing data, you often need to focus on specific subsets that meet certain criteria. DuckDB makes this easy with SQL's WHERE clause.\n",
    "The WHERE clause acts like a filter, only returning rows that match your condition. You can use comparison operators like >, <, =, <=, >=, and <> (not equal), along with logical operators like AND, OR, and NOT to create more complex filters.\n",
    "\n",
    "The `WHERE` clause acts like a filter, only returning rows that match your condition. You can use comparison operators like >, <, =, <=, >=, and <> (not equal), along with logical operators like AND, OR, and NOT to create more complex filters."
   ]
  },
  {
   "cell_type": "code",
   "execution_count": 32,
   "metadata": {},
   "outputs": [
    {
     "data": {
      "text/plain": [
       "[('1958-08', 505),\n",
       " ('1959-07', 548),\n",
       " ('1959-08', 559),\n",
       " ('1960-06', 535),\n",
       " ('1960-07', 622),\n",
       " ('1960-08', 606),\n",
       " ('1960-09', 508)]"
      ]
     },
     "execution_count": 32,
     "metadata": {},
     "output_type": "execute_result"
    }
   ],
   "source": [
    "import duckdb\n",
    "\n",
    "# Select only students with a score above 80\n",
    "result = duckdb.query(f\"SELECT * FROM '{source}' WHERE total_passengers > 500\").fetchall()\n",
    "result"
   ]
  },
  {
   "cell_type": "markdown",
   "metadata": {},
   "source": [
    "### Sorting results\n",
    "Data analysis often requires organizing results in a specific order. SQL's ORDER BY clause lets you sort your data based on one or more columns.\n",
    "\n",
    "The ORDER BY clause sorts your results based on the specified column. By default, sorting is in ascending order (ASC), but you can use DESC for descending order as shown here. You can also sort by multiple columns by listing them separated by commas, like ORDER BY column1, column2 DESC."
   ]
  },
  {
   "cell_type": "code",
   "execution_count": 33,
   "metadata": {},
   "outputs": [
    {
     "name": "stdout",
     "output_type": "stream",
     "text": [
      "Months with a higher total amount of passengers greater than 500\n",
      "[('1958-08', 505), ('1959-07', 548), ('1959-08', 559), ('1960-06', 535), ('1960-07', 622), ('1960-08', 606), ('1960-09', 508)]\n",
      "\\Months sorted by total traffic:\n",
      "[('1960-07', 622), ('1960-08', 606), ('1959-08', 559), ('1959-07', 548), ('1960-06', 535), ('1960-09', 508), ('1958-08', 505), ('1958-07', 491), ('1959-06', 472), ('1960-05', 472), ('1957-08', 467), ('1957-07', 465), ('1959-09', 463), ('1960-04', 461), ('1960-10', 461), ('1958-06', 435), ('1960-12', 432), ('1957-06', 422), ('1959-05', 420), ('1960-03', 419), ('1960-01', 417), ('1956-07', 413), ('1959-10', 407), ('1959-03', 406), ('1956-08', 405), ('1959-12', 405), ('1957-09', 404), ('1958-09', 404), ('1959-04', 396), ('1960-02', 391), ('1960-11', 390), ('1956-06', 374), ('1955-07', 364), ('1958-05', 363), ('1958-03', 362), ('1959-11', 362), ('1959-01', 360), ('1958-10', 359), ('1957-03', 356), ('1956-09', 355), ('1957-05', 355), ('1957-04', 348), ('1958-04', 348), ('1955-08', 347), ('1957-10', 347), ('1959-02', 342), ('1958-01', 340), ('1958-12', 337), ('1957-12', 336), ('1956-05', 318), ('1958-02', 318), ('1956-03', 317), ('1955-06', 315), ('1957-01', 315), ('1956-04', 313), ('1955-09', 312), ('1958-11', 310), ('1956-10', 306), ('1956-12', 306), ('1957-11', 305), ('1954-07', 302), ('1957-02', 301), ('1954-08', 293), ('1956-01', 284), ('1955-12', 278), ('1956-02', 277), ('1955-10', 274), ('1953-08', 272), ('1956-11', 271), ('1955-05', 270), ('1955-04', 269), ('1955-03', 267), ('1953-07', 264), ('1954-06', 264), ('1954-09', 259), ('1953-06', 243), ('1952-08', 242), ('1955-01', 242), ('1953-09', 237), ('1955-11', 237), ('1953-03', 236), ('1953-04', 235), ('1954-03', 235), ('1954-05', 234), ('1955-02', 233), ('1952-07', 230), ('1953-05', 229), ('1954-10', 229), ('1954-12', 229), ('1954-04', 227), ('1952-06', 218), ('1953-10', 211), ('1952-09', 209), ('1954-01', 204), ('1954-11', 203), ('1953-12', 201), ('1951-07', 199), ('1951-08', 199), ('1953-01', 196), ('1953-02', 196), ('1952-12', 194), ('1952-03', 193), ('1952-10', 191), ('1954-02', 188), ('1951-09', 184), ('1952-05', 183), ('1952-04', 181), ('1952-02', 180), ('1953-11', 180), ('1951-03', 178), ('1951-06', 178), ('1951-05', 172), ('1952-11', 172), ('1952-01', 171), ('1950-07', 170), ('1950-08', 170), ('1951-12', 166), ('1951-04', 163), ('1951-10', 162), ('1950-09', 158), ('1951-02', 150), ('1950-06', 149), ('1949-07', 148), ('1949-08', 148), ('1951-11', 146), ('1951-01', 145), ('1950-03', 141), ('1950-12', 140), ('1949-09', 136), ('1949-06', 135), ('1950-04', 135), ('1950-10', 133), ('1949-03', 132), ('1949-04', 129), ('1950-02', 126), ('1950-05', 125), ('1949-05', 121), ('1949-10', 119), ('1949-02', 118), ('1949-12', 118), ('1950-01', 115), ('1950-11', 114), ('1949-01', 112), ('1949-11', 104)]\n"
     ]
    }
   ],
   "source": [
    "import duckdb\n",
    "\n",
    "# Select only students with a score above 80\n",
    "result = duckdb.query(f\"SELECT * FROM '{source}' WHERE total_passengers > 500\").fetchall()\n",
    "\n",
    "print(\"Months with a higher total amount of passengers greater than 500\")\n",
    "print(result)\n",
    "\n",
    "#Sort months by number of passengers\n",
    "sorted_result = duckdb.query(f\"SELECT * FROM '{source}' ORDER BY total_passengers DESC \").fetchall()\n",
    "print(\"\\Months sorted by total traffic:\")\n",
    "print(sorted_result)\n"
   ]
  },
  {
   "cell_type": "markdown",
   "metadata": {},
   "source": [
    "### Adding calculated columns\n",
    "SQL makes it easy to create new columns using expressions. This lets you transform your data and generate new insights directly in your query.\n",
    "\n",
    "The AS keyword lets you name the result of an expression, creating a new column in your output. You can use arithmetic operators like +, -, *, and /, as well as many built-in functions. These calculated columns exist only in your query results and don't modify the original data file."
   ]
  },
  {
   "cell_type": "code",
   "execution_count": 34,
   "metadata": {},
   "outputs": [
    {
     "name": "stdout",
     "output_type": "stream",
     "text": [
      "\n",
      "Scores with 10 bonus points:\n",
      "[('1949-01', 112, 0.112), ('1949-02', 118, 0.118), ('1949-03', 132, 0.132), ('1949-04', 129, 0.129), ('1949-05', 121, 0.121), ('1949-06', 135, 0.135), ('1949-07', 148, 0.148), ('1949-08', 148, 0.148), ('1949-09', 136, 0.136), ('1949-10', 119, 0.119), ('1949-11', 104, 0.104), ('1949-12', 118, 0.118), ('1950-01', 115, 0.115), ('1950-02', 126, 0.126), ('1950-03', 141, 0.141), ('1950-04', 135, 0.135), ('1950-05', 125, 0.125), ('1950-06', 149, 0.149), ('1950-07', 170, 0.17), ('1950-08', 170, 0.17), ('1950-09', 158, 0.158), ('1950-10', 133, 0.133), ('1950-11', 114, 0.114), ('1950-12', 140, 0.14), ('1951-01', 145, 0.145), ('1951-02', 150, 0.15), ('1951-03', 178, 0.178), ('1951-04', 163, 0.163), ('1951-05', 172, 0.172), ('1951-06', 178, 0.178), ('1951-07', 199, 0.199), ('1951-08', 199, 0.199), ('1951-09', 184, 0.184), ('1951-10', 162, 0.162), ('1951-11', 146, 0.146), ('1951-12', 166, 0.166), ('1952-01', 171, 0.171), ('1952-02', 180, 0.18), ('1952-03', 193, 0.193), ('1952-04', 181, 0.181), ('1952-05', 183, 0.183), ('1952-06', 218, 0.218), ('1952-07', 230, 0.23), ('1952-08', 242, 0.242), ('1952-09', 209, 0.209), ('1952-10', 191, 0.191), ('1952-11', 172, 0.172), ('1952-12', 194, 0.194), ('1953-01', 196, 0.196), ('1953-02', 196, 0.196), ('1953-03', 236, 0.236), ('1953-04', 235, 0.235), ('1953-05', 229, 0.229), ('1953-06', 243, 0.243), ('1953-07', 264, 0.264), ('1953-08', 272, 0.272), ('1953-09', 237, 0.237), ('1953-10', 211, 0.211), ('1953-11', 180, 0.18), ('1953-12', 201, 0.201), ('1954-01', 204, 0.204), ('1954-02', 188, 0.188), ('1954-03', 235, 0.235), ('1954-04', 227, 0.227), ('1954-05', 234, 0.234), ('1954-06', 264, 0.264), ('1954-07', 302, 0.302), ('1954-08', 293, 0.293), ('1954-09', 259, 0.259), ('1954-10', 229, 0.229), ('1954-11', 203, 0.203), ('1954-12', 229, 0.229), ('1955-01', 242, 0.242), ('1955-02', 233, 0.233), ('1955-03', 267, 0.267), ('1955-04', 269, 0.269), ('1955-05', 270, 0.27), ('1955-06', 315, 0.315), ('1955-07', 364, 0.364), ('1955-08', 347, 0.347), ('1955-09', 312, 0.312), ('1955-10', 274, 0.274), ('1955-11', 237, 0.237), ('1955-12', 278, 0.278), ('1956-01', 284, 0.284), ('1956-02', 277, 0.277), ('1956-03', 317, 0.317), ('1956-04', 313, 0.313), ('1956-05', 318, 0.318), ('1956-06', 374, 0.374), ('1956-07', 413, 0.413), ('1956-08', 405, 0.405), ('1956-09', 355, 0.355), ('1956-10', 306, 0.306), ('1956-11', 271, 0.271), ('1956-12', 306, 0.306), ('1957-01', 315, 0.315), ('1957-02', 301, 0.301), ('1957-03', 356, 0.356), ('1957-04', 348, 0.348), ('1957-05', 355, 0.355), ('1957-06', 422, 0.422), ('1957-07', 465, 0.465), ('1957-08', 467, 0.467), ('1957-09', 404, 0.404), ('1957-10', 347, 0.347), ('1957-11', 305, 0.305), ('1957-12', 336, 0.336), ('1958-01', 340, 0.34), ('1958-02', 318, 0.318), ('1958-03', 362, 0.362), ('1958-04', 348, 0.348), ('1958-05', 363, 0.363), ('1958-06', 435, 0.435), ('1958-07', 491, 0.491), ('1958-08', 505, 0.505), ('1958-09', 404, 0.404), ('1958-10', 359, 0.359), ('1958-11', 310, 0.31), ('1958-12', 337, 0.337), ('1959-01', 360, 0.36), ('1959-02', 342, 0.342), ('1959-03', 406, 0.406), ('1959-04', 396, 0.396), ('1959-05', 420, 0.42), ('1959-06', 472, 0.472), ('1959-07', 548, 0.548), ('1959-08', 559, 0.559), ('1959-09', 463, 0.463), ('1959-10', 407, 0.407), ('1959-11', 362, 0.362), ('1959-12', 405, 0.405), ('1960-01', 417, 0.417), ('1960-02', 391, 0.391), ('1960-03', 419, 0.419), ('1960-04', 461, 0.461), ('1960-05', 472, 0.472), ('1960-06', 535, 0.535), ('1960-07', 622, 0.622), ('1960-08', 606, 0.606), ('1960-09', 508, 0.508), ('1960-10', 461, 0.461), ('1960-11', 390, 0.39), ('1960-12', 432, 0.432)]\n"
     ]
    }
   ],
   "source": [
    "import duckdb\n",
    "\n",
    "...\n",
    "\n",
    "# Add 10 bonus points to each score\n",
    "bonus_result = duckdb.query(f\"\"\"\n",
    "    SELECT\n",
    "        month,\n",
    "        total_passengers,\n",
    "        total_passengers/1000 AS traffic_in_thousands\n",
    "    FROM '{source}'\n",
    "\"\"\").fetchall()\n",
    "print(\"\\nScores with 10 bonus points:\")\n",
    "print(bonus_result)\n"
   ]
  },
  {
   "cell_type": "markdown",
   "metadata": {},
   "source": [
    "### Using CASE expressions\n",
    "\n",
    "For more complex transformations, SQL provides the CASE expression. This works similarly to if-else statements in programming languages, allowing you to apply conditional logic in your queries.\n"
   ]
  },
  {
   "cell_type": "code",
   "execution_count": 35,
   "metadata": {},
   "outputs": [
    {
     "name": "stdout",
     "output_type": "stream",
     "text": [
      "\n",
      "Students with letter grades:\n",
      "[('1949-01', 112, 'HIGH'), ('1949-02', 118, 'HIGH'), ('1949-03', 132, 'HIGH'), ('1949-04', 129, 'HIGH'), ('1949-05', 121, 'HIGH'), ('1949-06', 135, 'HIGH'), ('1949-07', 148, 'HIGH'), ('1949-08', 148, 'HIGH'), ('1949-09', 136, 'HIGH'), ('1949-10', 119, 'HIGH'), ('1949-11', 104, 'HIGH'), ('1949-12', 118, 'HIGH'), ('1950-01', 115, 'HIGH'), ('1950-02', 126, 'HIGH'), ('1950-03', 141, 'HIGH'), ('1950-04', 135, 'HIGH'), ('1950-05', 125, 'HIGH'), ('1950-06', 149, 'HIGH'), ('1950-07', 170, 'HIGH'), ('1950-08', 170, 'HIGH'), ('1950-09', 158, 'HIGH'), ('1950-10', 133, 'HIGH'), ('1950-11', 114, 'HIGH'), ('1950-12', 140, 'HIGH'), ('1951-01', 145, 'HIGH'), ('1951-02', 150, 'HIGH'), ('1951-03', 178, 'HIGH'), ('1951-04', 163, 'HIGH'), ('1951-05', 172, 'HIGH'), ('1951-06', 178, 'HIGH'), ('1951-07', 199, 'HIGH'), ('1951-08', 199, 'HIGH'), ('1951-09', 184, 'HIGH'), ('1951-10', 162, 'HIGH'), ('1951-11', 146, 'HIGH'), ('1951-12', 166, 'HIGH'), ('1952-01', 171, 'HIGH'), ('1952-02', 180, 'HIGH'), ('1952-03', 193, 'HIGH'), ('1952-04', 181, 'HIGH'), ('1952-05', 183, 'HIGH'), ('1952-06', 218, 'HIGH'), ('1952-07', 230, 'HIGH'), ('1952-08', 242, 'HIGH'), ('1952-09', 209, 'HIGH'), ('1952-10', 191, 'HIGH'), ('1952-11', 172, 'HIGH'), ('1952-12', 194, 'HIGH'), ('1953-01', 196, 'HIGH'), ('1953-02', 196, 'HIGH'), ('1953-03', 236, 'HIGH'), ('1953-04', 235, 'HIGH'), ('1953-05', 229, 'HIGH'), ('1953-06', 243, 'HIGH'), ('1953-07', 264, 'HIGH'), ('1953-08', 272, 'HIGH'), ('1953-09', 237, 'HIGH'), ('1953-10', 211, 'HIGH'), ('1953-11', 180, 'HIGH'), ('1953-12', 201, 'HIGH'), ('1954-01', 204, 'HIGH'), ('1954-02', 188, 'HIGH'), ('1954-03', 235, 'HIGH'), ('1954-04', 227, 'HIGH'), ('1954-05', 234, 'HIGH'), ('1954-06', 264, 'HIGH'), ('1954-07', 302, 'HIGH'), ('1954-08', 293, 'HIGH'), ('1954-09', 259, 'HIGH'), ('1954-10', 229, 'HIGH'), ('1954-11', 203, 'HIGH'), ('1954-12', 229, 'HIGH'), ('1955-01', 242, 'HIGH'), ('1955-02', 233, 'HIGH'), ('1955-03', 267, 'HIGH'), ('1955-04', 269, 'HIGH'), ('1955-05', 270, 'HIGH'), ('1955-06', 315, 'HIGH'), ('1955-07', 364, 'HIGH'), ('1955-08', 347, 'HIGH'), ('1955-09', 312, 'HIGH'), ('1955-10', 274, 'HIGH'), ('1955-11', 237, 'HIGH'), ('1955-12', 278, 'HIGH'), ('1956-01', 284, 'HIGH'), ('1956-02', 277, 'HIGH'), ('1956-03', 317, 'HIGH'), ('1956-04', 313, 'HIGH'), ('1956-05', 318, 'HIGH'), ('1956-06', 374, 'HIGH'), ('1956-07', 413, 'HIGH'), ('1956-08', 405, 'HIGH'), ('1956-09', 355, 'HIGH'), ('1956-10', 306, 'HIGH'), ('1956-11', 271, 'HIGH'), ('1956-12', 306, 'HIGH'), ('1957-01', 315, 'HIGH'), ('1957-02', 301, 'HIGH'), ('1957-03', 356, 'HIGH'), ('1957-04', 348, 'HIGH'), ('1957-05', 355, 'HIGH'), ('1957-06', 422, 'HIGH'), ('1957-07', 465, 'HIGH'), ('1957-08', 467, 'HIGH'), ('1957-09', 404, 'HIGH'), ('1957-10', 347, 'HIGH'), ('1957-11', 305, 'HIGH'), ('1957-12', 336, 'HIGH'), ('1958-01', 340, 'HIGH'), ('1958-02', 318, 'HIGH'), ('1958-03', 362, 'HIGH'), ('1958-04', 348, 'HIGH'), ('1958-05', 363, 'HIGH'), ('1958-06', 435, 'HIGH'), ('1958-07', 491, 'HIGH'), ('1958-08', 505, 'HIGH'), ('1958-09', 404, 'HIGH'), ('1958-10', 359, 'HIGH'), ('1958-11', 310, 'HIGH'), ('1958-12', 337, 'HIGH'), ('1959-01', 360, 'HIGH'), ('1959-02', 342, 'HIGH'), ('1959-03', 406, 'HIGH'), ('1959-04', 396, 'HIGH'), ('1959-05', 420, 'HIGH'), ('1959-06', 472, 'HIGH'), ('1959-07', 548, 'HIGH'), ('1959-08', 559, 'HIGH'), ('1959-09', 463, 'HIGH'), ('1959-10', 407, 'HIGH'), ('1959-11', 362, 'HIGH'), ('1959-12', 405, 'HIGH'), ('1960-01', 417, 'HIGH'), ('1960-02', 391, 'HIGH'), ('1960-03', 419, 'HIGH'), ('1960-04', 461, 'HIGH'), ('1960-05', 472, 'HIGH'), ('1960-06', 535, 'HIGH'), ('1960-07', 622, 'HIGH'), ('1960-08', 606, 'HIGH'), ('1960-09', 508, 'HIGH'), ('1960-10', 461, 'HIGH'), ('1960-11', 390, 'HIGH'), ('1960-12', 432, 'HIGH')]\n"
     ]
    }
   ],
   "source": [
    "import duckdb\n",
    "\n",
    "# Previous code...\n",
    "\n",
    "# Assign grades based on score\n",
    "\n",
    "segmented_result = duckdb.query(f\"\"\"\n",
    "    SELECT\n",
    "        month,\n",
    "        total_passengers,\n",
    "        CASE\n",
    "            WHEN total_passengers >= 100 THEN 'HIGH'\n",
    "            WHEN total_passengers >= 50 THEN 'MEDIUM'\n",
    "            ELSE 'LOW'\n",
    "        END AS affluency\n",
    "    FROM '{source}'\n",
    "\"\"\").fetchall()\n",
    "\n",
    "print(\"\\nStudents with letter grades:\")\n",
    "print(segmented_result)\n"
   ]
  }
 ],
 "metadata": {
  "kernelspec": {
   "display_name": "venv",
   "language": "python",
   "name": "python3"
  },
  "language_info": {
   "codemirror_mode": {
    "name": "ipython",
    "version": 3
   },
   "file_extension": ".py",
   "mimetype": "text/x-python",
   "name": "python",
   "nbconvert_exporter": "python",
   "pygments_lexer": "ipython3",
   "version": "3.10.11"
  }
 },
 "nbformat": 4,
 "nbformat_minor": 2
}
